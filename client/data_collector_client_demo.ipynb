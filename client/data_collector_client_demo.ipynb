{
 "cells": [
  {
   "cell_type": "code",
   "execution_count": 2,
   "id": "fdd67654",
   "metadata": {},
   "outputs": [],
   "source": [
    "import grpc \n",
    "\n",
    "import resources_pb2\n",
    "import moves_pb2\n",
    "import board_pb2\n",
    "import game_data_core_pb2 as core\n",
    "\n",
    "\n",
    "channel = grpc.insecure_channel('localhost:9000')"
   ]
  },
  {
   "cell_type": "code",
   "execution_count": 3,
   "id": "b94a7546",
   "metadata": {},
   "outputs": [],
   "source": [
    "import game_recorder_service_pb2\n",
    "import game_recorder_service_pb2_grpc\n",
    "\n",
    "data_recorder_stub = game_recorder_service_pb2_grpc.GameRecorderServiceStub(channel)"
   ]
  },
  {
   "cell_type": "code",
   "execution_count": 5,
   "id": "d2a8cdb7",
   "metadata": {},
   "outputs": [
    {
     "name": "stdout",
     "output_type": "stream",
     "text": [
      "id: \"6\"\n",
      "\n"
     ]
    }
   ],
   "source": [
    "platform = 'test'\n",
    "\n",
    "playerIds = {\n",
    "    0 : core.PlayerId(platform = 'test', user_id = 'player1'),\n",
    "    1 : core.PlayerId(platform = 'test', user_id = 'player2'),\n",
    "    2 : core.PlayerId(platform = 'test', user_id = 'player3'),\n",
    "    3 : core.PlayerId(platform = 'test', user_id = 'player4')\n",
    "}\n",
    "\n",
    "board = board_pb2.BaseBoard()\n",
    "\n",
    "gameId = data_recorder_stub.StartRecording(\n",
    "    game_recorder_service_pb2.StartRecordingRequest(player_position_id_map = playerIds, board = board))\n",
    "\n",
    "print(gameId)"
   ]
  },
  {
   "cell_type": "code",
   "execution_count": 6,
   "id": "3f8f9fac",
   "metadata": {},
   "outputs": [],
   "source": [
    "first_move = moves_pb2.InitialPlacement(vertex = board_pb2.Vertex(id = '1'), edge = board_pb2.Edge(v1 = board_pb2.Vertex(id = '1'), v2 = board_pb2.Vertex(id = '2')))\n",
    "\n",
    "\n",
    "move_num = data_recorder_stub.RecordMove(\n",
    "    game_recorder_service_pb2.RecordMoveRequest(id = gameId, move = core.MoveEvent(initial_placement_move = first_move), previous_move_number = 0))"
   ]
  },
  {
   "cell_type": "code",
   "execution_count": 7,
   "id": "87b7d698",
   "metadata": {},
   "outputs": [
    {
     "name": "stdout",
     "output_type": "stream",
     "text": [
      "move_number: 10\n",
      "\n"
     ]
    }
   ],
   "source": [
    "moves = [\n",
    "    core.MoveEvent(initial_placement_move = moves_pb2.InitialPlacement()),\n",
    "    core.MoveEvent(initial_placement_move = moves_pb2.InitialPlacement()),\n",
    "    core.MoveEvent(initial_placement_move = moves_pb2.InitialPlacement()),\n",
    "    core.MoveEvent(initial_placement_move = moves_pb2.InitialPlacement()),\n",
    "    core.MoveEvent(initial_placement_move = moves_pb2.InitialPlacement()),\n",
    "    core.MoveEvent(initial_placement_move = moves_pb2.InitialPlacement()),\n",
    "    core.MoveEvent(initial_placement_move = moves_pb2.InitialPlacement()),\n",
    "    \n",
    "    core.MoveEvent(roll_dice_move = moves_pb2.RollDice()),\n",
    "    core.MoveEvent(end_turn = moves_pb2.EndTurn())\n",
    "    # ... all moves\n",
    "]\n",
    "\n",
    "for move in moves: \n",
    "    move_num = data_recorder_stub.RecordMove(\n",
    "        game_recorder_service_pb2.RecordMoveRequest(\n",
    "            id = gameId, \n",
    "            move = core.MoveEvent(initial_placement_move = first_move), \n",
    "            previous_move_number = move_num.move_number))\n",
    "print(move_num)"
   ]
  },
  {
   "cell_type": "code",
   "execution_count": 8,
   "id": "95082a50",
   "metadata": {},
   "outputs": [
    {
     "name": "stdout",
     "output_type": "stream",
     "text": [
      "move_count: 10\n",
      "\n"
     ]
    }
   ],
   "source": [
    "result = data_recorder_stub.CompleteRecording(game_recorder_service_pb2.CompleteRecordingRequest(id = gameId, num_moves = move_num.move_number))\n",
    "print(result)"
   ]
  },
  {
   "cell_type": "code",
   "execution_count": 9,
   "id": "9f159008",
   "metadata": {},
   "outputs": [],
   "source": [
    "import game_data_service_pb2\n",
    "import game_data_service_pb2_grpc\n",
    "\n",
    "data_access_stub = game_data_service_pb2_grpc.GameDataServiceStub(channel)"
   ]
  },
  {
   "cell_type": "code",
   "execution_count": 10,
   "id": "964bd2ed",
   "metadata": {},
   "outputs": [
    {
     "data": {
      "text/plain": [
       "id {\n",
       "  id: \"6\"\n",
       "}\n",
       "playerIds {\n",
       "  key: 0\n",
       "  value {\n",
       "    user_id: \"player1\"\n",
       "  }\n",
       "}\n",
       "playerIds {\n",
       "  key: 1\n",
       "  value {\n",
       "    user_id: \"player2\"\n",
       "  }\n",
       "}\n",
       "playerIds {\n",
       "  key: 2\n",
       "  value {\n",
       "    user_id: \"player3\"\n",
       "  }\n",
       "}\n",
       "playerIds {\n",
       "  key: 3\n",
       "  value {\n",
       "    user_id: \"player4\"\n",
       "  }\n",
       "}\n",
       "board {\n",
       "}"
      ]
     },
     "execution_count": 10,
     "metadata": {},
     "output_type": "execute_result"
    }
   ],
   "source": [
    "data_access_stub.GetGameById(game_data_service_pb2.GetGameInfoByIdRequest(platform = platform, id = gameId))"
   ]
  },
  {
   "cell_type": "code",
   "execution_count": null,
   "id": "f664a287",
   "metadata": {},
   "outputs": [],
   "source": [
    "data_access_stub.GetRawGameMoves(game_data_service_pb2.GetRawGameMovesRequest(platform = platform, id = gameId))"
   ]
  },
  {
   "cell_type": "code",
   "execution_count": null,
   "id": "19609fc6",
   "metadata": {},
   "outputs": [],
   "source": []
  }
 ],
 "metadata": {
  "kernelspec": {
   "display_name": "Python 3 (ipykernel)",
   "language": "python",
   "name": "python3"
  },
  "language_info": {
   "codemirror_mode": {
    "name": "ipython",
    "version": 3
   },
   "file_extension": ".py",
   "mimetype": "text/x-python",
   "name": "python",
   "nbconvert_exporter": "python",
   "pygments_lexer": "ipython3",
   "version": "3.11.2"
  }
 },
 "nbformat": 4,
 "nbformat_minor": 5
}
